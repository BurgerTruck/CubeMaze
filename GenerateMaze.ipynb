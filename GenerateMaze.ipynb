{
 "cells": [
  {
   "cell_type": "code",
   "execution_count": 1,
   "metadata": {},
   "outputs": [],
   "source": [
    "class Wall:\n",
    "    def __init__(self, start, end, is_vertical, face):\n",
    "        self.is_removed = False\n",
    "        self.start = start\n",
    "        self.end = end\n",
    "        self.is_vertical = is_vertical\n",
    "        self.face = face\n",
    "    def __str__(self) -> str:\n",
    "        return str(self.start) + \"->\" + str(self.end)\n",
    "    def __repr__(self) -> str:\n",
    "        # return str(self.start) + \"->\" + str(self.end)\n",
    "        return '['+str(self.is_removed).lower() + \", \" + str(self.face)+']'\n",
    "class Cell:\n",
    "    def __init__(self, position, walls, is_visited, is_obstacle):\n",
    "        \n",
    "        self.up_wall = walls[0]\n",
    "        self.right_wall = walls[1]\n",
    "        self.bottom_wall = walls[2]\n",
    "        self.left_wall = walls[3]\n",
    "\n",
    "        self.up_cell = None\n",
    "        self.right_cell = None\n",
    "        self.bottom_cell = None\n",
    "        self.left_cell = None\n",
    "\n",
    "        self.is_visited = is_visited\n",
    "        self.is_obstacle = is_obstacle\n",
    "        self.position = position\n",
    "    def get_direction(self, direction):\n",
    "        if direction == \"up\":\n",
    "            return self.up_wall, self.up_cell\n",
    "        if direction == \"right\":\n",
    "            return self.right_wall, self.right_cell\n",
    "        if direction == \"bottom\":\n",
    "            return self.bottom_wall, self.bottom_cell\n",
    "        if direction == \"left\":\n",
    "            return self.left_wall, self.left_cell\n",
    "\n",
    "        "
   ]
  },
  {
   "cell_type": "code",
   "execution_count": 2,
   "metadata": {},
   "outputs": [],
   "source": [
    "\n",
    "\n",
    "width = 18\n",
    "height = 9\n",
    "depth = 9\n",
    "def generate_walls(offset_row= 0, offset_col= 0, width = width, height = height, face = 0 ):\n",
    "    walls = [[None] * (width+1 if i % 2 == 1 else width) for i in range(2 * height+1)]\n",
    "    vertical = False\n",
    "    for i in range(2 * height+1):\n",
    "        row = i//2 + offset_row  \n",
    "        for j in range(width + 1 if vertical else width):\n",
    "            col = j + offset_col\n",
    "            wall = Wall((row,col), (row+1, col) if vertical else (row, col+1), vertical, face) \n",
    "            walls[i][j] = wall\n",
    "        vertical = not vertical\n",
    "    return walls\n",
    "\n",
    "def generate_cells(walls, offset_row = 0, offset_col = 0, width = width, height = height):\n",
    "    cells = [[0] * (width) for i in range(height)]\n",
    "    for i in range(height):\n",
    "        for j in range(width):\n",
    "            up_wall = walls[i*2][j]\n",
    "            right_wall = walls[i*2+1][j+1]\n",
    "            down_wall = walls[i*2+2][j]\n",
    "            left_wall = walls[i*2+1][j]\n",
    "\n",
    "            cell = Cell((i + offset_row,j+ offset_col), (up_wall, right_wall, down_wall, left_wall), False, False)\n",
    "            cells[i][j] = cell \n",
    "    for i in range(height):\n",
    "        for j in range(width):\n",
    "            cells[i][j].up_cell = cells[i-1][j] if i > 0 else None\n",
    "            cells[i][j].right_cell = cells[i][j+1] if j < width - 1 else None\n",
    "            cells[i][j].bottom_cell = cells[i+1][j] if i < height - 1 else None\n",
    "            cells[i][j].left_cell = cells[i][j-1] if j > 0 else None\n",
    "    return cells\n",
    "walls = generate_walls()\n",
    "cells = generate_cells(walls)"
   ]
  },
  {
   "cell_type": "code",
   "execution_count": 3,
   "metadata": {},
   "outputs": [
    {
     "name": "stdout",
     "output_type": "stream",
     "text": [
      "Seed was: 4447929297211045793\n",
      "2\n",
      "13\n"
     ]
    }
   ],
   "source": [
    "import random\n",
    "import sys\n",
    "directions = [\"up\", \"right\", \"bottom\", \"left\"]\n",
    "print\n",
    "seed = random.randrange(sys.maxsize)\n",
    "# seed = 4371092068570916859\n",
    "# seed = 8232124659646686844\n",
    "random.seed(seed)\n",
    "print(\"Seed was:\", seed)\n",
    "\n",
    "startRow, startCol = random.randint(0, height-1), random.randint(0, width-1)\n",
    "print(startRow)\n",
    "print(startCol)\n",
    "def dfs(cell):\n",
    "    \n",
    "    cell.is_visited = True\n",
    "    # print(directions)\n",
    "    # print(cell.position)\n",
    "    shuffled_directions = list(directions)\n",
    "    random.shuffle(shuffled_directions)\n",
    "    for direction in shuffled_directions:\n",
    "        wall, next_cell = cell.get_direction(direction)\n",
    "        # if next_cell: print(next_cell.position)\n",
    "        if next_cell and not next_cell.is_visited:\n",
    "\n",
    "            dfs(next_cell)\n",
    "            wall.is_removed = True\n",
    "\n",
    "dfs(cells[startRow][startCol])"
   ]
  },
  {
   "cell_type": "code",
   "execution_count": 4,
   "metadata": {},
   "outputs": [
    {
     "name": "stdout",
     "output_type": "stream",
     "text": [
      "--------------------------------------------------------------------------\n",
      "--              --      --      --      --          --                  --\n",
      "--  ----------  --  --  --  --  --  --  --  ------  --  --------------  --\n",
      "--  --              --      --  --  --      --  --  --  --  --      --  --\n",
      "--  ------  ----------------------  ----------  --  --  --  --  --  --  --\n",
      "--      --  --                  --  --          --  --  --      --  --  --\n",
      "------  --  --  --------------  --  ----------  --  ------  ------  --  --\n",
      "--      --  --  --      --      --              --  --      --  --      --\n",
      "--  ----------  --  --  --  ------------------  --  --  ------  ----------\n",
      "--              --  --  --                  --  --  --  --          --  --\n",
      "--  --------------  --  ------  ----------  --  --  --  --  ------  --  --\n",
      "--  --              --      --  --          --  --      --  --      --  --\n",
      "--  ----------  ----------  --  --------------  ----------  --  ------  --\n",
      "--  --      --      --      --                  --          --  --      --\n",
      "--  --  --  ------  --  --------------------------  ----------  --  --  --\n",
      "--      --          --      --                      --      --  --  --  --\n",
      "--------------------------  --  ----------------------  --  --  ------  --\n",
      "--                              --                      --              --\n",
      "--------------------------------------------------------------------------\n"
     ]
    }
   ],
   "source": [
    "\n",
    "vertical = False\n",
    "for i in range(2*height+1):\n",
    "    if not vertical:\n",
    "        for j in range(width):\n",
    "            print(\"--\", end = \"\")\n",
    "            if walls[i][j].is_removed:\n",
    "                print (\"  \", end = \"\")\n",
    "            else:\n",
    "                print(\"--\", end = \"\")\n",
    "        print(\"--\", end = \"\")\n",
    "    else:\n",
    "        for j in range(width):\n",
    "            if walls[i][j].is_removed:\n",
    "                print (\"  \", end = \"\")\n",
    "            else:\n",
    "                print(\"--\", end = \"\")\n",
    "            print(\"  \", end = \"\")\n",
    "        if walls[i][j+1].is_removed:\n",
    "            print(\"  \", end = \"\")\n",
    "        else: print(\"--\", end = \"\")\n",
    "    vertical = not vertical\n",
    "    print()"
   ]
  },
  {
   "cell_type": "code",
   "execution_count": 5,
   "metadata": {},
   "outputs": [],
   "source": [
    "import matplotlib.pyplot as plt \n",
    "def draw_maze(walls):\n",
    "    fig, ax = plt.subplots()\n",
    "    for row in walls:\n",
    "        for wall in row:\n",
    "            if not wall: continue\n",
    "            if wall.is_removed: continue\n",
    "            start = wall.start\n",
    "            end = wall.end\n",
    "            ax.plot([start[1], end[1]], [height - start[0], height- end[0]], color='black')\n",
    "    ax.set_aspect('equal')\n",
    "    ax.axis('off')\n",
    "    plt.show()"
   ]
  },
  {
   "cell_type": "code",
   "execution_count": 6,
   "metadata": {},
   "outputs": [
    {
     "data": {
      "image/png": "[encoded data removed]",
      "text/plain": [
       "<Figure size 640x480 with 1 Axes>"
      ]
     },
     "metadata": {},
     "output_type": "display_data"
    }
   ],
   "source": [
    "draw_maze(walls)"
   ]
  },
  {
   "cell_type": "code",
   "execution_count": 7,
   "metadata": {},
   "outputs": [
    {
     "name": "stdout",
     "output_type": "stream",
     "text": [
      "10\n",
      "19\n",
      "10\n",
      "19\n",
      "True\n",
      "True\n",
      "True\n"
     ]
    }
   ],
   "source": [
    "\n",
    "sideWalls = [0] * 6\n",
    "sizes = [(width, height), (height, depth), (width, depth), (height, depth),(width, height), (width, depth) ]\n",
    "side_offsets = ((0,0), (height, -height), (height,0), (height,width), (depth+height,0), (depth+height+ height,0))\n",
    "for i, offset in enumerate(side_offsets):\n",
    "    size = sizes[i]\n",
    "    offset_row = offset[0]\n",
    "    offset_col = offset[1]\n",
    "    walls = generate_walls(offset_row, offset_col, width=size[0], height = size[1], face = i)\n",
    "    sideWalls[i] = walls\n",
    "\n",
    "# first row of a will become last row of b\n",
    "def combine_horizontal_walls(a, b):\n",
    "    for wall in a[0]:\n",
    "        wall.is_duplicate = True\n",
    "    a[0] = list(b[-1])\n",
    "\n",
    "# def combine_vertical_walls(a,b, index = None):\n",
    "#     if index == None:\n",
    "#         for i in range(len(a)):\n",
    "#             if i & 1:\n",
    "#                 a[i][0] = b[i][-1]\n",
    "#                 a[i][0].is_duplicate = True\n",
    "#     else:\n",
    "#          i = 1\n",
    "#          last = len(a) - 1\n",
    "#          for i in range(i, len(a),2):\n",
    "#             a[i][index] = b[last - i][index]       \n",
    "#             a[i][index].is_duplicate = True\n",
    "    \n",
    "def combine_vertical_walls(a, b, index = None):\n",
    "    if index == None:\n",
    "        for i in range(len(a)):\n",
    "            if (i & 1):\n",
    "                a[i][0] = b[i][len(b[i]) - 1];\n",
    "    else:\n",
    "        \n",
    "        last = len(a) - 1;\n",
    "        aIndex = len(a[1]) - 1 if index == -1 else index\n",
    "        bIndex = len(b[1]) - 1 if index == -1 else index\n",
    "        print(len(a[1]))\n",
    "        print(len(b[1]))\n",
    "        i = 1\n",
    "        for i in range(i, len(a), 2):\n",
    "                \n",
    "                a[i][aIndex] = b[last - i][bIndex];\n",
    "\n",
    "def combine_vertical_horizontal(a,b, aIndex,bIndex, reverse = False):\n",
    "    j = 0\n",
    "    # a is the vertical and b is horizontal\n",
    "\n",
    "    if(reverse):\n",
    "        bLast = len(b[bIndex]) - 1\n",
    "    else:\n",
    "        bLast = 0\n",
    "    i = 1\n",
    "    for i in range(i, len(a), 2):\n",
    "        bCol = abs(bLast - j)\n",
    "        a[i][aIndex] = b[bIndex][bCol]\n",
    "        a[i][aIndex].is_duplicate = True    \n",
    "        j+=1    \n",
    "\n",
    "def connect_horizontal_cells(a, b):\n",
    "    for i, cell in enumerate(a[0]):\n",
    "        cell.up_cell = b[-1][i]\n",
    "        b[-1][i].bottom_cell = cell\n",
    "\n",
    "def connect_vertical_cells(a,b, index = None):\n",
    "    if index == None: \n",
    "        for i in range(len(a)):\n",
    "            a[i][0].left_cell = b[i][-1]\n",
    "            b[i][-1].right_cell = a[i][0]\n",
    "    else:\n",
    "        last = len(a)- 1\n",
    "        if index == 0:\n",
    "            for i in range(len(a)):\n",
    "                a[i][index].left_cell = b[last - i][index]\n",
    "                b[last-i][index].left_cell = a[i][index]\n",
    "        elif index == -1:\n",
    "            for i in range(len(a)):\n",
    "                a[i][index].right_cell = b[last - i][index]\n",
    "                b[last - i][index].right_cell = a[i][index]         \n",
    "def connect_vertical_horizontal(a,b, aIndex,bIndex, reverse = False):\n",
    "    last = len(b[bIndex]) - 1\n",
    "    for i in range(len(a)):\n",
    "        bCell = b[bIndex][last-i] if reverse else b[bIndex][i]\n",
    "        aCell = a[i][aIndex]\n",
    "        if aIndex == 0:\n",
    "            aCell.left_cell = bCell\n",
    "            if bIndex == 0:bCell.up_cell = aCell\n",
    "            else : bCell.bottom_cell = aCell\n",
    "        elif aIndex == -1:\n",
    "            aCell.right_cell = bCell\n",
    "            if bIndex == 0: bCell.up_cell = aCell\n",
    "            else : bCell.bottom_cell = aCell\n",
    "\n",
    "\n",
    "combine_horizontal_walls(sideWalls[2], sideWalls[0])\n",
    "combine_horizontal_walls(sideWalls[4], sideWalls[2])\n",
    "combine_horizontal_walls(sideWalls[5], sideWalls[4])\n",
    "combine_horizontal_walls(sideWalls[0], sideWalls[5])\n",
    "\n",
    "combine_vertical_walls(sideWalls[2], sideWalls[1])\n",
    "combine_vertical_walls(sideWalls[3], sideWalls[2])\n",
    "\n",
    "combine_vertical_walls(sideWalls[1], sideWalls[5], 0)\n",
    "combine_vertical_walls(sideWalls[3], sideWalls[5], -1)\n",
    "\n",
    "combine_vertical_horizontal(sideWalls[0], sideWalls[1], 0, 0)\n",
    "combine_vertical_horizontal(sideWalls[0], sideWalls[3], -1, 0, True)\n",
    "combine_vertical_horizontal(sideWalls[4], sideWalls[3],-1, -1)\n",
    "combine_vertical_horizontal(sideWalls[4], sideWalls[1], 0, -1, True)\n",
    "\n",
    "\n",
    "print(sideWalls[5][-2][-1] == sideWalls[3][1][-1])\n",
    "print(sideWalls[5][1][-1].is_vertical)\n",
    "print(sideWalls[3][-2][0].is_vertical)"
   ]
  },
  {
   "cell_type": "code",
   "execution_count": 8,
   "metadata": {},
   "outputs": [],
   "source": [
    "sideCells = [0] * 6\n",
    "\n",
    "for i, offset in enumerate(side_offsets):\n",
    "    size = sizes[i]\n",
    "    offset_row = offset[0] * height\n",
    "    offset_col = offset[1] * width\n",
    "    cells = generate_cells(sideWalls[i], offset_row, offset_col, width=size[0], height = size[1])\n",
    "    sideCells[i] = cells"
   ]
  },
  {
   "cell_type": "code",
   "execution_count": 9,
   "metadata": {},
   "outputs": [],
   "source": [
    "connect_horizontal_cells(sideCells[2], sideCells[0])\n",
    "connect_horizontal_cells(sideCells[4], sideCells[2])\n",
    "connect_horizontal_cells(sideCells[5], sideCells[4])\n",
    "connect_horizontal_cells(sideCells[0], sideCells[5])\n",
    "\n",
    "connect_vertical_cells(sideCells[2], sideCells[1])\n",
    "connect_vertical_cells(sideCells[3], sideCells[2])\n",
    "\n",
    "connect_vertical_cells(sideCells[1], sideCells[5], 0)\n",
    "connect_vertical_cells(sideCells[5], sideCells[3], -1)\n",
    "\n",
    "connect_vertical_horizontal(sideCells[0], sideCells[1], 0, 0)\n",
    "connect_vertical_horizontal(sideCells[0], sideCells[3], -1, 0, True)\n",
    "connect_vertical_horizontal(sideCells[4], sideCells[3], -1, -1)\n",
    "connect_vertical_horizontal(sideCells[4], sideCells[1],0, -1, True)"
   ]
  },
  {
   "cell_type": "code",
   "execution_count": 10,
   "metadata": {},
   "outputs": [
    {
     "data": {
      "image/png": "[encoded data removed]",
      "text/plain": [
       "<Figure size 640x480 with 1 Axes>"
      ]
     },
     "metadata": {},
     "output_type": "display_data"
    }
   ],
   "source": [
    "def draw_maze_cube(sideWalls):\n",
    "    fig, ax = plt.subplots()\n",
    "    for i, walls in enumerate(sideWalls):\n",
    "        for row in walls:\n",
    "            for wall in row:\n",
    "                if not wall: continue\n",
    "                if wall.is_removed: continue\n",
    "                if(wall.face!=i): continue\n",
    "                # if(not wall.is_vertical): continue\n",
    "                start = wall.start\n",
    "                end = wall.end\n",
    "                ax.plot([start[1], end[1]], [height * 4 - start[0], height * 4- end[0]], color='black')\n",
    "    ax.set_aspect('equal')\n",
    "    # ax.axis('off')\n",
    "    plt.show()\n",
    "draw_maze_cube(sideWalls)"
   ]
  },
  {
   "cell_type": "code",
   "execution_count": 11,
   "metadata": {},
   "outputs": [
    {
     "name": "stdout",
     "output_type": "stream",
     "text": [
      "2 8 16\n",
      "[[<__main__.Cell object at 0x7e27b7a4b1f0>, <__main__.Cell object at 0x7e27b7a3c7f0>, <__main__.Cell object at 0x7e27b7a3c820>, <__main__.Cell object at 0x7e27b7a3c850>, <__main__.Cell object at 0x7e27b7a3c880>, <__main__.Cell object at 0x7e27b7a3c8b0>, <__main__.Cell object at 0x7e27b7a3c8e0>, <__main__.Cell object at 0x7e27b7a3c910>, <__main__.Cell object at 0x7e27b7a3c970>, <__main__.Cell object at 0x7e27b7a3c940>, <__main__.Cell object at 0x7e27b7a3c9a0>, <__main__.Cell object at 0x7e27b7a3c9d0>, <__main__.Cell object at 0x7e27b7a3ca00>, <__main__.Cell object at 0x7e27b7a3cac0>, <__main__.Cell object at 0x7e27b7a3ca30>, <__main__.Cell object at 0x7e27b7a3ca90>, <__main__.Cell object at 0x7e27b7a3ca60>, <__main__.Cell object at 0x7e27b7a3caf0>], [<__main__.Cell object at 0x7e27b7a3c7c0>, <__main__.Cell object at 0x7e27b7a3cb20>, <__main__.Cell object at 0x7e27b7a3cc70>, <__main__.Cell object at 0x7e27b7a3cca0>, <__main__.Cell object at 0x7e27b7a3cd00>, <__main__.Cell object at 0x7e27b7a3cd60>, <__main__.Cell object at 0x7e27b7a3cd30>, <__main__.Cell object at 0x7e27b7a3ccd0>, <__main__.Cell object at 0x7e27b7a3cd90>, <__main__.Cell object at 0x7e27b7a3cdf0>, <__main__.Cell object at 0x7e27b7a3ce50>, <__main__.Cell object at 0x7e27b7a3ce20>, <__main__.Cell object at 0x7e27b7a3cdc0>, <__main__.Cell object at 0x7e27b7a3ce80>, <__main__.Cell object at 0x7e27b7a3cee0>, <__main__.Cell object at 0x7e27b7a3cf40>, <__main__.Cell object at 0x7e27b7a3cf10>, <__main__.Cell object at 0x7e27b7a3ceb0>], [<__main__.Cell object at 0x7e27b7a3c5e0>, <__main__.Cell object at 0x7e27b7a3cfd0>, <__main__.Cell object at 0x7e27b7a3d090>, <__main__.Cell object at 0x7e27b7a3d0c0>, <__main__.Cell object at 0x7e27b7a3d120>, <__main__.Cell object at 0x7e27b7a3d0f0>, <__main__.Cell object at 0x7e27b7a3d150>, <__main__.Cell object at 0x7e27b7a3d180>, <__main__.Cell object at 0x7e27b7a3d1e0>, <__main__.Cell object at 0x7e27b7a3d1b0>, <__main__.Cell object at 0x7e27b7a3d210>, <__main__.Cell object at 0x7e27b7a3d240>, <__main__.Cell object at 0x7e27b7a3d030>, <__main__.Cell object at 0x7e27b7a3d060>, <__main__.Cell object at 0x7e27b7a3d000>, <__main__.Cell object at 0x7e27b7a3cfa0>, <__main__.Cell object at 0x7e27b7a3d270>, <__main__.Cell object at 0x7e27b7a3d330>], [<__main__.Cell object at 0x7e27b7a3cf70>, <__main__.Cell object at 0x7e27b7a3d300>, <__main__.Cell object at 0x7e27b7a3d2d0>, <__main__.Cell object at 0x7e27b7a3cbe0>, <__main__.Cell object at 0x7e27b7a3cc40>, <__main__.Cell object at 0x7e27b7a3cc10>, <__main__.Cell object at 0x7e27b7a3cb50>, <__main__.Cell object at 0x7e27b7a3cb80>, <__main__.Cell object at 0x7e27b7a3cbb0>, <__main__.Cell object at 0x7e27b7a3d360>, <__main__.Cell object at 0x7e27b7a3d420>, <__main__.Cell object at 0x7e27b7a3d510>, <__main__.Cell object at 0x7e27b7a3d5a0>, <__main__.Cell object at 0x7e27b7a3d540>, <__main__.Cell object at 0x7e27b7a3d570>, <__main__.Cell object at 0x7e27b7a3d480>, <__main__.Cell object at 0x7e27b7a3d4e0>, <__main__.Cell object at 0x7e27b7a3d4b0>], [<__main__.Cell object at 0x7e27b7a3d2a0>, <__main__.Cell object at 0x7e27b7a3d5d0>, <__main__.Cell object at 0x7e27b7a3d690>, <__main__.Cell object at 0x7e27b7a3d6f0>, <__main__.Cell object at 0x7e27b7a3d750>, <__main__.Cell object at 0x7e27b7a3d780>, <__main__.Cell object at 0x7e27b7a3d720>, <__main__.Cell object at 0x7e27b7a3d6c0>, <__main__.Cell object at 0x7e27b7a3d600>, <__main__.Cell object at 0x7e27b7a3d660>, <__main__.Cell object at 0x7e27b7a3d630>, <__main__.Cell object at 0x7e27b7a3d390>, <__main__.Cell object at 0x7e27b7a3d3c0>, <__main__.Cell object at 0x7e27b7a3d3f0>, <__main__.Cell object at 0x7e27b7a3d7b0>, <__main__.Cell object at 0x7e27b7a3d8d0>, <__main__.Cell object at 0x7e27b7a3ded0>, <__main__.Cell object at 0x7e27b7a3df30>], [<__main__.Cell object at 0x7e27b7a3d450>, <__main__.Cell object at 0x7e27b7a3df60>, <__main__.Cell object at 0x7e27b7a3dfc0>, <__main__.Cell object at 0x7e27b7a3df90>, <__main__.Cell object at 0x7e27b7a3df00>, <__main__.Cell object at 0x7e27b7a3e020>, <__main__.Cell object at 0x7e27b7a3e080>, <__main__.Cell object at 0x7e27b7a3e2c0>, <__main__.Cell object at 0x7e27b7a3e170>, <__main__.Cell object at 0x7e27b7a3e290>, <__main__.Cell object at 0x7e27b7a3e1a0>, <__main__.Cell object at 0x7e27b7a3e200>, <__main__.Cell object at 0x7e27b7a3e260>, <__main__.Cell object at 0x7e27b7a3e230>, <__main__.Cell object at 0x7e27b7a3e1d0>, <__main__.Cell object at 0x7e27b7a3e0b0>, <__main__.Cell object at 0x7e27b7a3e110>, <__main__.Cell object at 0x7e27b7a3e140>], [<__main__.Cell object at 0x7e27b7a3dff0>, <__main__.Cell object at 0x7e27b7a3e050>, <__main__.Cell object at 0x7e27b7a3e2f0>, <__main__.Cell object at 0x7e27b7a3e350>, <__main__.Cell object at 0x7e27b7a3e590>, <__main__.Cell object at 0x7e27b7a3e440>, <__main__.Cell object at 0x7e27b7a3e560>, <__main__.Cell object at 0x7e27b7a3e470>, <__main__.Cell object at 0x7e27b7a3e4d0>, <__main__.Cell object at 0x7e27b7a3e530>, <__main__.Cell object at 0x7e27b7a3e500>, <__main__.Cell object at 0x7e27b7a3e4a0>, <__main__.Cell object at 0x7e27b7a3e380>, <__main__.Cell object at 0x7e27b7a3e3e0>, <__main__.Cell object at 0x7e27b7a3e410>, <__main__.Cell object at 0x7e27b7a3e3b0>, <__main__.Cell object at 0x7e27b7a3e320>, <__main__.Cell object at 0x7e27b7a3e5c0>], [<__main__.Cell object at 0x7e27b7a3e0e0>, <__main__.Cell object at 0x7e27b7a3e5f0>, <__main__.Cell object at 0x7e27b7a3e650>, <__main__.Cell object at 0x7e27b7a3e6b0>, <__main__.Cell object at 0x7e27b7a3e710>, <__main__.Cell object at 0x7e27b7a3e6e0>, <__main__.Cell object at 0x7e27b7a3e680>, <__main__.Cell object at 0x7e27b7a3e620>, <__main__.Cell object at 0x7e27b7a3e770>, <__main__.Cell object at 0x7e27b7a3e8f0>, <__main__.Cell object at 0x7e27b7a3e7a0>, <__main__.Cell object at 0x7e27b7a3e800>, <__main__.Cell object at 0x7e27b7a3e860>, <__main__.Cell object at 0x7e27b7a3e8c0>, <__main__.Cell object at 0x7e27b7a3e890>, <__main__.Cell object at 0x7e27b7a3e830>, <__main__.Cell object at 0x7e27b7a3e7d0>, <__main__.Cell object at 0x7e27b7a3e920>], [<__main__.Cell object at 0x7e27b7a3e740>, <__main__.Cell object at 0x7e27b7a3e950>, <__main__.Cell object at 0x7e27b7a3e9b0>, <__main__.Cell object at 0x7e27b7a3eb60>, <__main__.Cell object at 0x7e27b7a3ec80>, <__main__.Cell object at 0x7e27b7a3eda0>, <__main__.Cell object at 0x7e27b7a3ecb0>, <__main__.Cell object at 0x7e27b7a3ed10>, <__main__.Cell object at 0x7e27b7a3ed70>, <__main__.Cell object at 0x7e27b7a3ed40>, <__main__.Cell object at 0x7e27b7a3ece0>, <__main__.Cell object at 0x7e27b7a3eb90>, <__main__.Cell object at 0x7e27b7a3ec50>, <__main__.Cell object at 0x7e27b7a3ebc0>, <__main__.Cell object at 0x7e27b7a3ec20>, <__main__.Cell object at 0x7e27b7a3ebf0>, <__main__.Cell object at 0x7e27b7a3ea10>, <__main__.Cell object at 0x7e27b7a3ea70>]]\n",
      "Hello\n",
      "(6, 5)->(7, 5)\n"
     ]
    }
   ],
   "source": [
    "# startSide = random.randint(0, 5)\n",
    "startSide = 2\n",
    "startRow, startCol = random.randint(0, len(sideCells[startSide])-1), random.randint(0, len(sideCells[startSide][0])-1)\n",
    "def dfs(cell):\n",
    "    \n",
    "    cell.is_visited = True\n",
    "    # print(directions)\n",
    "    # print(cell.position)\n",
    "    shuffled_directions = list(directions)\n",
    "    random.shuffle(shuffled_directions)\n",
    "    for direction in shuffled_directions:\n",
    "        wall, next_cell = cell.get_direction(direction)\n",
    "        # if next_cell: print(next_cell.position)\n",
    "        if next_cell and not next_cell.is_visited:\n",
    "            if next_cell.position == (6,5):\n",
    "                print('Hello')\n",
    "                print(wall)\n",
    "            dfs(next_cell)\n",
    "            wall.is_removed = True\n",
    "\n",
    "print(startSide, startRow, startCol)\n",
    "print(sideCells[startSide])\n",
    "dfs(sideCells[startSide][startRow][startCol])\n",
    "\n",
    "# print(sideCells[startSide])\n",
    "# print(sideCells[2][0][1].get_direction('up') == sideCells[0][-1][1].get_direction('bottom'))\n",
    "# print(sideCells[2][0][1].get_direction('up'))\n",
    "# print(sideCells[0][-1][1].get_direction('bottom'))\n",
    "# print(sideCells[2][0][1] == sideCells[0][-1][1].bottom_cell)\n",
    "# print(sideCells[0][-1][1].bottom_cell)"
   ]
  },
  {
   "cell_type": "code",
   "execution_count": 12,
   "metadata": {},
   "outputs": [
    {
     "data": {
      "image/png": "[encoded data removed]",
      "text/plain": [
       "<Figure size 640x480 with 1 Axes>"
      ]
     },
     "metadata": {},
     "output_type": "display_data"
    },
    {
     "name": "stdout",
     "output_type": "stream",
     "text": [
      "True\n",
      "True\n"
     ]
    }
   ],
   "source": [
    "# sideWalls[2][0][1].is_removed = False\n",
    "draw_maze_cube(sideWalls)\n",
    "print(sideCells[0][0][0].left_cell == sideCells[1][0][0])\n",
    "print(sideCells[1][0][0].up_cell == sideCells[0][0][0])"
   ]
  },
  {
   "cell_type": "code",
   "execution_count": 13,
   "metadata": {},
   "outputs": [
    {
     "name": "stdout",
     "output_type": "stream",
     "text": [
      "True True True True True True True True True True True True True True True True True True \n",
      "True True True True True True True True True True True True True True True True True True \n",
      "True True True True True True True True True True True True True True True True True True \n",
      "True True True True True True True True True True True True True True True True True True \n",
      "True True True True True True True True True True True True True True True True True True \n",
      "True True True True True True True True True True True True True True True True True True \n",
      "True True True True True True True True True True True True True True True True True True \n",
      "True True True True True True True True True True True True True True True True True True \n",
      "True True True True True True True True True True True True True True True True True True \n",
      "\n",
      "True True True True True True True True True \n",
      "True True True True True True True True True \n",
      "True True True True True True True True True \n",
      "True True True True True True True True True \n",
      "True True True True True True True True True \n",
      "True True True True True True True True True \n",
      "True True True True True True True True True \n",
      "True True True True True True True True True \n",
      "True True True True True True True True True \n",
      "\n",
      "True True True True True True True True True True True True True True True True True True \n",
      "True True True True True True True True True True True True True True True True True True \n",
      "True True True True True True True True True True True True True True True True True True \n",
      "True True True True True True True True True True True True True True True True True True \n",
      "True True True True True True True True True True True True True True True True True True \n",
      "True True True True True True True True True True True True True True True True True True \n",
      "True True True True True True True True True True True True True True True True True True \n",
      "True True True True True True True True True True True True True True True True True True \n",
      "True True True True True True True True True True True True True True True True True True \n",
      "\n",
      "True True True True True True True True True \n",
      "True True True True True True True True True \n",
      "True True True True True True True True True \n",
      "True True True True True True True True True \n",
      "True True True True True True True True True \n",
      "True True True True True True True True True \n",
      "True True True True True True True True True \n",
      "True True True True True True True True True \n",
      "True True True True True True True True True \n",
      "\n",
      "True True True True True True True True True True True True True True True True True True \n",
      "True True True True True True True True True True True True True True True True True True \n",
      "True True True True True True True True True True True True True True True True True True \n",
      "True True True True True True True True True True True True True True True True True True \n",
      "True True True True True True True True True True True True True True True True True True \n",
      "True True True True True True True True True True True True True True True True True True \n",
      "True True True True True True True True True True True True True True True True True True \n",
      "True True True True True True True True True True True True True True True True True True \n",
      "True True True True True True True True True True True True True True True True True True \n",
      "\n",
      "True True True True True True True True True True True True True True True True True True \n",
      "True True True True True True True True True True True True True True True True True True \n",
      "True True True True True True True True True True True True True True True True True True \n",
      "True True True True True True True True True True True True True True True True True True \n",
      "True True True True True True True True True True True True True True True True True True \n",
      "True True True True True True True True True True True True True True True True True True \n",
      "True True True True True True True True True True True True True True True True True True \n",
      "True True True True True True True True True True True True True True True True True True \n",
      "True True True True True True True True True True True True True True True True True True \n",
      "\n"
     ]
    }
   ],
   "source": [
    "for side in sideCells:\n",
    "    for row in side:\n",
    "        for cell in row:\n",
    "            print(cell.is_visited, end = \" \")\n",
    "        print()\n",
    "    print()"
   ]
  },
  {
   "cell_type": "code",
   "execution_count": 14,
   "metadata": {},
   "outputs": [
    {
     "name": "stdout",
     "output_type": "stream",
     "text": [
      "[[[[true, 5], [false, 5], [false, 5], [false, 5], [false, 5], [false, 5], [false, 5], [false, 5], [false, 5], [false, 5], [true, 5], [true, 5], [false, 5], [false, 5], [false, 5], [true, 5], [false, 5], [false, 5]], [[false, 1], [true, 0], [true, 0], [false, 0], [true, 0], [true, 0], [true, 0], [true, 0], [true, 0], [true, 0], [true, 0], [false, 0], [false, 0], [true, 0], [true, 0], [false, 0], [true, 0], [false, 0], [true, 3]], [[false, 0], [false, 0], [true, 0], [true, 0], [false, 0], [false, 0], [false, 0], [false, 0], [false, 0], [false, 0], [false, 0], [true, 0], [true, 0], [false, 0], [true, 0], [false, 0], [true, 0], [true, 0]], [[true, 1], [true, 0], [false, 0], [false, 0], [false, 0], [true, 0], [true, 0], [true, 0], [true, 0], [true, 0], [true, 0], [false, 0], [false, 0], [false, 0], [false, 0], [true, 0], [false, 0], [true, 0], [false, 3]], [[false, 0], [true, 0], [true, 0], [true, 0], [false, 0], [false, 0], [false, 0], [false, 0], [true, 0], [false, 0], [true, 0], [false, 0], [true, 0], [true, 0], [false, 0], [true, 0], [true, 0], [false, 0]], [[true, 1], [false, 0], [false, 0], [true, 0], [false, 0], [true, 0], [true, 0], [true, 0], [true, 0], [false, 0], [false, 0], [true, 0], [true, 0], [false, 0], [true, 0], [true, 0], [false, 0], [false, 0], [true, 3]], [[true, 0], [true, 0], [false, 0], [false, 0], [true, 0], [false, 0], [false, 0], [false, 0], [false, 0], [true, 0], [false, 0], [false, 0], [false, 0], [true, 0], [false, 0], [false, 0], [true, 0], [true, 0]], [[false, 1], [false, 0], [false, 0], [true, 0], [true, 0], [false, 0], [true, 0], [true, 0], [true, 0], [true, 0], [true, 0], [true, 0], [true, 0], [false, 0], [false, 0], [true, 0], [false, 0], [false, 0], [false, 3]], [[true, 0], [false, 0], [true, 0], [false, 0], [true, 0], [false, 0], [false, 0], [false, 0], [false, 0], [false, 0], [true, 0], [false, 0], [true, 0], [true, 0], [false, 0], [true, 0], [true, 0], [true, 0]], [[false, 1], [true, 0], [true, 0], [true, 0], [false, 0], [true, 0], [true, 0], [true, 0], [true, 0], [true, 0], [false, 0], [false, 0], [true, 0], [false, 0], [true, 0], [false, 0], [false, 0], [false, 0], [true, 3]], [[false, 0], [false, 0], [true, 0], [false, 0], [false, 0], [false, 0], [false, 0], [true, 0], [false, 0], [true, 0], [true, 0], [false, 0], [false, 0], [false, 0], [true, 0], [true, 0], [true, 0], [false, 0]], [[true, 1], [true, 0], [false, 0], [false, 0], [true, 0], [true, 0], [true, 0], [false, 0], [false, 0], [false, 0], [false, 0], [false, 0], [true, 0], [true, 0], [false, 0], [false, 0], [false, 0], [true, 0], [true, 3]], [[false, 0], [true, 0], [false, 0], [true, 0], [false, 0], [false, 0], [true, 0], [true, 0], [true, 0], [true, 0], [true, 0], [true, 0], [false, 0], [true, 0], [true, 0], [true, 0], [false, 0], [false, 0]], [[false, 1], [true, 0], [true, 0], [true, 0], [false, 0], [true, 0], [false, 0], [false, 0], [true, 0], [false, 0], [false, 0], [false, 0], [false, 0], [true, 0], [false, 0], [false, 0], [true, 0], [true, 0], [true, 3]], [[false, 0], [false, 0], [false, 0], [false, 0], [true, 0], [true, 0], [true, 0], [false, 0], [false, 0], [true, 0], [true, 0], [true, 0], [true, 0], [false, 0], [true, 0], [true, 0], [true, 0], [false, 0]], [[true, 1], [false, 0], [true, 0], [true, 0], [true, 0], [false, 0], [false, 0], [true, 0], [true, 0], [false, 0], [false, 0], [true, 0], [false, 0], [false, 0], [true, 0], [false, 0], [false, 0], [true, 0], [false, 3]], [[true, 0], [false, 0], [false, 0], [false, 0], [true, 0], [true, 0], [false, 0], [false, 0], [true, 0], [true, 0], [true, 0], [false, 0], [true, 0], [true, 0], [false, 0], [true, 0], [false, 0], [true, 0]], [[false, 1], [true, 0], [true, 0], [false, 0], [true, 0], [false, 0], [true, 0], [true, 0], [false, 0], [false, 0], [false, 0], [true, 0], [false, 0], [true, 0], [false, 0], [true, 0], [true, 0], [false, 0], [false, 3]], [[false, 0], [false, 0], [true, 0], [true, 0], [false, 0], [false, 0], [false, 0], [true, 0], [true, 0], [true, 0], [false, 0], [true, 0], [false, 0], [false, 0], [false, 0], [false, 0], [true, 0], [true, 0]]], [[[false, 1], [true, 1], [true, 1], [false, 1], [false, 1], [true, 1], [false, 1], [true, 1], [false, 1]], [[false, 5], [true, 1], [false, 1], [false, 1], [true, 1], [false, 1], [true, 1], [false, 1], [false, 1], [true, 1]], [[false, 1], [true, 1], [true, 1], [false, 1], [true, 1], [false, 1], [true, 1], [true, 1], [true, 1]], [[true, 5], [false, 1], [true, 1], [true, 1], [true, 1], [false, 1], [true, 1], [false, 1], [false, 1], [true, 1]], [[true, 1], [true, 1], [false, 1], [false, 1], [false, 1], [true, 1], [false, 1], [true, 1], [true, 1]], [[false, 5], [false, 1], [false, 1], [true, 1], [true, 1], [true, 1], [false, 1], [true, 1], [false, 1], [false, 1]], [[true, 1], [false, 1], [true, 1], [false, 1], [false, 1], [true, 1], [true, 1], [false, 1], [false, 1]], [[false, 5], [true, 1], [false, 1], [false, 1], [true, 1], [true, 1], [false, 1], [false, 1], [true, 1], [false, 1]], [[false, 1], [true, 1], [true, 1], [false, 1], [false, 1], [false, 1], [true, 1], [true, 1], [true, 1]], [[true, 5], [true, 1], [false, 1], [true, 1], [true, 1], [true, 1], [true, 1], [true, 1], [false, 1], [true, 1]], [[false, 1], [false, 1], [true, 1], [false, 1], [false, 1], [false, 1], [true, 1], [false, 1], [false, 1]], [[true, 5], [false, 1], [true, 1], [true, 1], [false, 1], [true, 1], [false, 1], [false, 1], [true, 1], [true, 1]], [[true, 1], [false, 1], [false, 1], [false, 1], [true, 1], [true, 1], [false, 1], [true, 1], [false, 1]], [[false, 5], [true, 1], [false, 1], [true, 1], [true, 1], [false, 1], [true, 1], [true, 1], [false, 1], [true, 1]], [[false, 1], [true, 1], [true, 1], [false, 1], [false, 1], [false, 1], [false, 1], [false, 1], [false, 1]], [[true, 5], [false, 1], [false, 1], [true, 1], [true, 1], [false, 1], [true, 1], [true, 1], [true, 1], [true, 1]], [[false, 1], [true, 1], [true, 1], [false, 1], [true, 1], [true, 1], [false, 1], [true, 1], [false, 1]], [[false, 5], [true, 1], [false, 1], [false, 1], [true, 1], [false, 1], [true, 1], [false, 1], [false, 1], [true, 1]], [[true, 1], [false, 1], [false, 1], [true, 1], [false, 1], [true, 1], [false, 1], [true, 1], [false, 1]]], [[[false, 0], [false, 0], [true, 0], [true, 0], [false, 0], [false, 0], [false, 0], [true, 0], [true, 0], [true, 0], [false, 0], [true, 0], [false, 0], [false, 0], [false, 0], [false, 0], [true, 0], [true, 0]], [[true, 1], [true, 2], [false, 2], [false, 2], [true, 2], [true, 2], [false, 2], [false, 2], [false, 2], [true, 2], [false, 2], [false, 2], [true, 2], [true, 2], [true, 2], [true, 2], [false, 2], [false, 2], [false, 2]], [[false, 2], [false, 2], [true, 2], [false, 2], [false, 2], [true, 2], [true, 2], [true, 2], [false, 2], [false, 2], [true, 2], [false, 2], [false, 2], [false, 2], [false, 2], [true, 2], [false, 2], [true, 2]], [[true, 1], [true, 2], [false, 2], [true, 2], [false, 2], [true, 2], [false, 2], [false, 2], [false, 2], [true, 2], [true, 2], [true, 2], [true, 2], [true, 2], [true, 2], [false, 2], [true, 2], [false, 2], [false, 2]], [[false, 2], [true, 2], [false, 2], [true, 2], [true, 2], [false, 2], [true, 2], [true, 2], [true, 2], [false, 2], [false, 2], [false, 2], [true, 2], [false, 2], [false, 2], [false, 2], [true, 2], [true, 2]], [[false, 1], [true, 2], [true, 2], [false, 2], [false, 2], [false, 2], [true, 2], [true, 2], [false, 2], [true, 2], [true, 2], [true, 2], [false, 2], [true, 2], [true, 2], [true, 2], [false, 2], [false, 2], [true, 2]], [[true, 2], [false, 2], [true, 2], [true, 2], [true, 2], [true, 2], [false, 2], [false, 2], [false, 2], [false, 2], [false, 2], [true, 2], [false, 2], [false, 2], [false, 2], [true, 2], [true, 2], [false, 2]], [[false, 1], [false, 2], [true, 2], [false, 2], [false, 2], [false, 2], [true, 2], [true, 2], [false, 2], [true, 2], [false, 2], [true, 2], [false, 2], [false, 2], [true, 2], [true, 2], [false, 2], [true, 2], [false, 2]], [[true, 2], [true, 2], [false, 2], [true, 2], [true, 2], [false, 2], [false, 2], [true, 2], [false, 2], [true, 2], [true, 2], [false, 2], [true, 2], [true, 2], [false, 2], [false, 2], [false, 2], [true, 2]], [[true, 1], [false, 2], [false, 2], [true, 2], [false, 2], [false, 2], [true, 2], [false, 2], [true, 2], [true, 2], [false, 2], [true, 2], [true, 2], [false, 2], [true, 2], [true, 2], [true, 2], [true, 2], [false, 2]], [[false, 2], [false, 2], [true, 2], [false, 2], [true, 2], [true, 2], [true, 2], [false, 2], [false, 2], [false, 2], [false, 2], [false, 2], [true, 2], [false, 2], [false, 2], [false, 2], [false, 2], [false, 2]], [[true, 1], [true, 2], [true, 2], [false, 2], [true, 2], [true, 2], [false, 2], [false, 2], [true, 2], [true, 2], [true, 2], [true, 2], [false, 2], [true, 2], [false, 2], [true, 2], [true, 2], [true, 2], [true, 2]], [[false, 2], [false, 2], [false, 2], [false, 2], [true, 2], [false, 2], [true, 2], [true, 2], [false, 2], [false, 2], [false, 2], [true, 2], [false, 2], [true, 2], [false, 2], [true, 2], [false, 2], [false, 2]], [[true, 1], [true, 2], [false, 2], [true, 2], [false, 2], [false, 2], [true, 2], [false, 2], [true, 2], [false, 2], [false, 2], [true, 2], [true, 2], [false, 2], [false, 2], [true, 2], [false, 2], [true, 2], [false, 2]], [[true, 2], [true, 2], [true, 2], [true, 2], [false, 2], [true, 2], [true, 2], [false, 2], [true, 2], [true, 2], [true, 2], [false, 2], [false, 2], [true, 2], [true, 2], [false, 2], [true, 2], [true, 2]], [[true, 1], [false, 2], [false, 2], [false, 2], [true, 2], [true, 2], [false, 2], [false, 2], [true, 2], [false, 2], [false, 2], [false, 2], [true, 2], [false, 2], [true, 2], [false, 2], [true, 2], [false, 2], [true, 2]], [[false, 2], [true, 2], [true, 2], [false, 2], [false, 2], [false, 2], [true, 2], [true, 2], [false, 2], [true, 2], [true, 2], [true, 2], [true, 2], [true, 2], [false, 2], [true, 2], [false, 2], [false, 2]], [[true, 1], [false, 2], [true, 2], [false, 2], [true, 2], [false, 2], [true, 2], [false, 2], [false, 2], [true, 2], [false, 2], [true, 2], [false, 2], [false, 2], [false, 2], [true, 2], [false, 2], [true, 2], [false, 2]], [[true, 2], [true, 2], [false, 2], [true, 2], [true, 2], [false, 2], [false, 2], [true, 2], [false, 2], [true, 2], [false, 2], [false, 2], [true, 2], [true, 2], [true, 2], [false, 2], [false, 2], [true, 2]]], [[[false, 3], [false, 3], [true, 3], [true, 3], [true, 3], [false, 3], [true, 3], [false, 3], [true, 3]], [[false, 2], [true, 3], [true, 3], [false, 3], [false, 3], [true, 3], [false, 3], [true, 3], [false, 3], [false, 5]], [[false, 3], [false, 3], [false, 3], [true, 3], [false, 3], [true, 3], [false, 3], [true, 3], [false, 3]], [[false, 2], [true, 3], [true, 3], [true, 3], [true, 3], [false, 3], [false, 3], [false, 3], [false, 3], [true, 5]], [[true, 3], [false, 3], [false, 3], [false, 3], [false, 3], [true, 3], [true, 3], [true, 3], [true, 3]], [[true, 2], [true, 3], [false, 3], [true, 3], [true, 3], [true, 3], [false, 3], [false, 3], [true, 3], [false, 5]], [[true, 3], [false, 3], [true, 3], [false, 3], [false, 3], [false, 3], [true, 3], [false, 3], [false, 3]], [[false, 2], [false, 3], [true, 3], [false, 3], [true, 3], [true, 3], [true, 3], [true, 3], [true, 3], [false, 5]], [[true, 3], [true, 3], [false, 3], [false, 3], [false, 3], [false, 3], [false, 3], [true, 3], [true, 3]], [[false, 2], [false, 3], [true, 3], [true, 3], [true, 3], [true, 3], [true, 3], [false, 3], [false, 3], [true, 5]], [[false, 3], [false, 3], [false, 3], [false, 3], [false, 3], [false, 3], [true, 3], [true, 3], [false, 3]], [[true, 2], [true, 3], [true, 3], [true, 3], [false, 3], [true, 3], [false, 3], [false, 3], [false, 3], [true, 5]], [[false, 3], [false, 3], [false, 3], [true, 3], [true, 3], [true, 3], [true, 3], [true, 3], [true, 3]], [[false, 2], [true, 3], [true, 3], [true, 3], [true, 3], [false, 3], [true, 3], [false, 3], [false, 3], [true, 5]], [[false, 3], [false, 3], [false, 3], [false, 3], [false, 3], [false, 3], [false, 3], [true, 3], [false, 3]], [[true, 2], [true, 3], [true, 3], [false, 3], [true, 3], [true, 3], [false, 3], [true, 3], [true, 3], [false, 5]], [[false, 3], [false, 3], [true, 3], [true, 3], [false, 3], [false, 3], [true, 3], [false, 3], [true, 3]], [[false, 2], [true, 3], [true, 3], [false, 3], [true, 3], [false, 3], [true, 3], [false, 3], [true, 3], [true, 5]], [[false, 3], [false, 3], [true, 3], [false, 3], [true, 3], [true, 3], [false, 3], [true, 3], [false, 3]]], [[[true, 2], [true, 2], [false, 2], [true, 2], [true, 2], [false, 2], [false, 2], [true, 2], [false, 2], [true, 2], [false, 2], [false, 2], [true, 2], [true, 2], [true, 2], [false, 2], [false, 2], [true, 2]], [[false, 1], [true, 4], [false, 4], [true, 4], [false, 4], [true, 4], [true, 4], [false, 4], [true, 4], [true, 4], [true, 4], [false, 4], [false, 4], [true, 4], [false, 4], [true, 4], [true, 4], [false, 4], [false, 3]], [[false, 4], [false, 4], [true, 4], [false, 4], [false, 4], [false, 4], [true, 4], [false, 4], [false, 4], [false, 4], [true, 4], [true, 4], [false, 4], [false, 4], [false, 4], [true, 4], [false, 4], [true, 4]], [[true, 1], [false, 4], [true, 4], [false, 4], [true, 4], [true, 4], [true, 4], [false, 4], [true, 4], [true, 4], [false, 4], [true, 4], [true, 4], [true, 4], [true, 4], [false, 4], [false, 4], [true, 4], [false, 3]], [[true, 4], [true, 4], [false, 4], [true, 4], [false, 4], [false, 4], [true, 4], [true, 4], [false, 4], [true, 4], [false, 4], [false, 4], [false, 4], [false, 4], [true, 4], [true, 4], [true, 4], [false, 4]], [[false, 1], [true, 4], [true, 4], [false, 4], [false, 4], [false, 4], [true, 4], [false, 4], [true, 4], [false, 4], [true, 4], [true, 4], [true, 4], [false, 4], [true, 4], [false, 4], [true, 4], [false, 4], [true, 3]], [[false, 4], [false, 4], [false, 4], [true, 4], [true, 4], [true, 4], [false, 4], [false, 4], [true, 4], [false, 4], [true, 4], [false, 4], [false, 4], [true, 4], [false, 4], [false, 4], [false, 4], [true, 4]], [[true, 1], [true, 4], [false, 4], [true, 4], [false, 4], [true, 4], [false, 4], [false, 4], [true, 4], [false, 4], [false, 4], [true, 4], [false, 4], [true, 4], [true, 4], [false, 4], [true, 4], [true, 4], [false, 3]], [[false, 4], [false, 4], [true, 4], [false, 4], [true, 4], [false, 4], [true, 4], [true, 4], [false, 4], [true, 4], [false, 4], [true, 4], [true, 4], [false, 4], [false, 4], [true, 4], [false, 4], [false, 4]], [[false, 1], [true, 4], [false, 4], [true, 4], [false, 4], [true, 4], [true, 4], [false, 4], [true, 4], [true, 4], [true, 4], [false, 4], [true, 4], [false, 4], [true, 4], [true, 4], [false, 4], [true, 4], [true, 3]], [[true, 4], [true, 4], [true, 4], [true, 4], [false, 4], [false, 4], [true, 4], [false, 4], [false, 4], [false, 4], [true, 4], [false, 4], [false, 4], [true, 4], [false, 4], [false, 4], [true, 4], [false, 4]], [[true, 1], [false, 4], [false, 4], [false, 4], [true, 4], [false, 4], [false, 4], [false, 4], [true, 4], [true, 4], [true, 4], [false, 4], [true, 4], [false, 4], [false, 4], [true, 4], [true, 4], [true, 4], [true, 3]], [[false, 4], [true, 4], [true, 4], [false, 4], [true, 4], [true, 4], [true, 4], [true, 4], [false, 4], [false, 4], [false, 4], [true, 4], [true, 4], [true, 4], [false, 4], [false, 4], [true, 4], [false, 4]], [[false, 1], [true, 4], [false, 4], [false, 4], [true, 4], [false, 4], [true, 4], [false, 4], [false, 4], [true, 4], [true, 4], [false, 4], [false, 4], [true, 4], [false, 4], [true, 4], [false, 4], [true, 4], [false, 3]], [[true, 4], [false, 4], [true, 4], [true, 4], [true, 4], [false, 4], [false, 4], [true, 4], [true, 4], [false, 4], [false, 4], [true, 4], [false, 4], [false, 4], [true, 4], [true, 4], [false, 4], [false, 4]], [[false, 1], [false, 4], [true, 4], [false, 4], [false, 4], [false, 4], [true, 4], [false, 4], [true, 4], [false, 4], [true, 4], [true, 4], [false, 4], [true, 4], [true, 4], [false, 4], [false, 4], [true, 4], [true, 3]], [[true, 4], [true, 4], [false, 4], [true, 4], [false, 4], [true, 4], [true, 4], [false, 4], [true, 4], [true, 4], [false, 4], [false, 4], [true, 4], [true, 4], [false, 4], [true, 4], [true, 4], [false, 4]], [[true, 1], [false, 4], [false, 4], [true, 4], [false, 4], [true, 4], [false, 4], [false, 4], [true, 4], [false, 4], [false, 4], [false, 4], [true, 4], [false, 4], [false, 4], [true, 4], [true, 4], [false, 4], [false, 3]], [[false, 4], [true, 4], [true, 4], [false, 4], [true, 4], [false, 4], [true, 4], [true, 4], [false, 4], [true, 4], [true, 4], [true, 4], [false, 4], [true, 4], [false, 4], [false, 4], [false, 4], [true, 4]]], [[[false, 4], [true, 4], [true, 4], [false, 4], [true, 4], [false, 4], [true, 4], [true, 4], [false, 4], [true, 4], [true, 4], [true, 4], [false, 4], [true, 4], [false, 4], [false, 4], [false, 4], [true, 4]], [[false, 5], [true, 5], [false, 5], [true, 5], [true, 5], [true, 5], [false, 5], [true, 5], [false, 5], [true, 5], [false, 5], [false, 5], [true, 5], [false, 5], [true, 5], [true, 5], [true, 5], [false, 5], [true, 5]], [[true, 5], [false, 5], [false, 5], [false, 5], [false, 5], [false, 5], [false, 5], [false, 5], [true, 5], [false, 5], [true, 5], [false, 5], [true, 5], [false, 5], [false, 5], [false, 5], [true, 5], [false, 5]], [[true, 5], [true, 5], [true, 5], [true, 5], [true, 5], [false, 5], [true, 5], [true, 5], [false, 5], [false, 5], [false, 5], [true, 5], [false, 5], [true, 5], [false, 5], [true, 5], [false, 5], [true, 5], [false, 5]], [[false, 5], [false, 5], [false, 5], [false, 5], [false, 5], [true, 5], [false, 5], [true, 5], [true, 5], [true, 5], [true, 5], [true, 5], [false, 5], [true, 5], [true, 5], [false, 5], [false, 5], [true, 5]], [[false, 5], [true, 5], [true, 5], [true, 5], [true, 5], [false, 5], [false, 5], [false, 5], [true, 5], [false, 5], [true, 5], [false, 5], [true, 5], [true, 5], [false, 5], [false, 5], [true, 5], [false, 5], [true, 5]], [[true, 5], [false, 5], [false, 5], [false, 5], [true, 5], [true, 5], [true, 5], [false, 5], [false, 5], [false, 5], [true, 5], [false, 5], [false, 5], [false, 5], [true, 5], [true, 5], [true, 5], [false, 5]], [[true, 5], [false, 5], [true, 5], [true, 5], [true, 5], [false, 5], [false, 5], [true, 5], [true, 5], [true, 5], [false, 5], [true, 5], [false, 5], [false, 5], [true, 5], [false, 5], [false, 5], [true, 5], [true, 5]], [[false, 5], [true, 5], [false, 5], [false, 5], [true, 5], [true, 5], [false, 5], [false, 5], [true, 5], [true, 5], [false, 5], [true, 5], [true, 5], [true, 5], [true, 5], [true, 5], [false, 5], [false, 5]], [[true, 5], [false, 5], [false, 5], [true, 5], [false, 5], [false, 5], [true, 5], [true, 5], [true, 5], [false, 5], [true, 5], [false, 5], [false, 5], [true, 5], [false, 5], [false, 5], [true, 5], [false, 5], [true, 5]], [[true, 5], [true, 5], [false, 5], [true, 5], [true, 5], [false, 5], [false, 5], [false, 5], [false, 5], [false, 5], [true, 5], [true, 5], [false, 5], [false, 5], [true, 5], [false, 5], [true, 5], [true, 5]], [[false, 5], [true, 5], [false, 5], [true, 5], [false, 5], [false, 5], [false, 5], [true, 5], [true, 5], [true, 5], [false, 5], [false, 5], [true, 5], [true, 5], [true, 5], [true, 5], [false, 5], [false, 5], [false, 5]], [[false, 5], [false, 5], [true, 5], [true, 5], [true, 5], [true, 5], [true, 5], [false, 5], [true, 5], [false, 5], [true, 5], [false, 5], [false, 5], [false, 5], [false, 5], [true, 5], [true, 5], [true, 5]], [[false, 5], [true, 5], [true, 5], [false, 5], [false, 5], [true, 5], [false, 5], [true, 5], [false, 5], [true, 5], [true, 5], [false, 5], [false, 5], [true, 5], [true, 5], [false, 5], [false, 5], [false, 5], [false, 5]], [[false, 5], [true, 5], [false, 5], [true, 5], [true, 5], [false, 5], [false, 5], [true, 5], [false, 5], [false, 5], [false, 5], [true, 5], [true, 5], [false, 5], [true, 5], [true, 5], [true, 5], [false, 5]], [[true, 5], [false, 5], [false, 5], [true, 5], [false, 5], [false, 5], [true, 5], [true, 5], [false, 5], [true, 5], [true, 5], [true, 5], [true, 5], [false, 5], [false, 5], [true, 5], [false, 5], [false, 5], [true, 5]], [[true, 5], [true, 5], [false, 5], [false, 5], [true, 5], [true, 5], [false, 5], [false, 5], [false, 5], [false, 5], [false, 5], [true, 5], [false, 5], [true, 5], [false, 5], [false, 5], [true, 5], [true, 5]], [[false, 5], [false, 5], [true, 5], [true, 5], [true, 5], [false, 5], [true, 5], [true, 5], [true, 5], [true, 5], [true, 5], [false, 5], [true, 5], [true, 5], [true, 5], [true, 5], [false, 5], [true, 5], [false, 5]], [[true, 5], [false, 5], [false, 5], [false, 5], [false, 5], [false, 5], [false, 5], [false, 5], [false, 5], [false, 5], [true, 5], [true, 5], [false, 5], [false, 5], [false, 5], [true, 5], [false, 5], [false, 5]]]]\n"
     ]
    }
   ],
   "source": [
    "print(sideWalls)"
   ]
  },
  {
   "cell_type": "code",
   "execution_count": 15,
   "metadata": {},
   "outputs": [
    {
     "name": "stdout",
     "output_type": "stream",
     "text": [
      "4447929297211045793\n"
     ]
    }
   ],
   "source": [
    "print(seed) "
   ]
  },
  {
   "cell_type": "code",
   "execution_count": 16,
   "metadata": {},
   "outputs": [
    {
     "data": {
      "text/plain": [
       "True"
      ]
     },
     "execution_count": 16,
     "metadata": {},
     "output_type": "execute_result"
    }
   ],
   "source": [
    "sideWalls[5][len(sideWalls[5]) -2][len(sideWalls[5][len(sideWalls[5])-2])-1] == sideWalls[3][1][len(sideWalls[3][1])-1]"
   ]
  },
  {
   "cell_type": "code",
   "execution_count": null,
   "metadata": {},
   "outputs": [],
   "source": []
  }
 ],
 "metadata": {
  "kernelspec": {
   "display_name": "Python 3",
   "language": "python",
   "name": "python3"
  },
  "language_info": {
   "codemirror_mode": {
    "name": "ipython",
    "version": 3
   },
   "file_extension": ".py",
   "mimetype": "text/x-python",
   "name": "python",
   "nbconvert_exporter": "python",
   "pygments_lexer": "ipython3",
   "version": "3.10.12"
  }
 },
 "nbformat": 4,
 "nbformat_minor": 2
}
